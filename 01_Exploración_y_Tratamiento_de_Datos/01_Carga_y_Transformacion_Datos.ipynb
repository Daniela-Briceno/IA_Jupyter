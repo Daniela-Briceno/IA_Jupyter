{
 "cells": [
  {
   "cell_type": "markdown",
   "id": "d6dcae92-931f-429f-8eda-c88efe96a8d2",
   "metadata": {},
   "source": [
    "# Carga y Transformación de Datos\n",
    "Este notebook tiene como objetivo demostrar cómo importar datasets desde distintas fuentes (CSV, Excel, JSON, APIs, bases de datos) y aplicar transformaciones iniciales usando pandas."
   ]
  },
  {
   "cell_type": "code",
   "execution_count": 1,
   "id": "a68561b1-1e57-488f-9db9-d3b333a13e2b",
   "metadata": {},
   "outputs": [],
   "source": [
    "import pandas as pd\n",
    "import numpy as np"
   ]
  },
  {
   "cell_type": "markdown",
   "id": "842dd5d8-d12b-463c-8b46-dfbf68330b57",
   "metadata": {},
   "source": [
    "### Tipos de carga de datos"
   ]
  },
  {
   "cell_type": "code",
   "execution_count": 2,
   "id": "ec3d1b99-482e-42a9-bbaf-57d7db10eafc",
   "metadata": {},
   "outputs": [
    {
     "data": {
      "text/html": [
       "<div>\n",
       "<style scoped>\n",
       "    .dataframe tbody tr th:only-of-type {\n",
       "        vertical-align: middle;\n",
       "    }\n",
       "\n",
       "    .dataframe tbody tr th {\n",
       "        vertical-align: top;\n",
       "    }\n",
       "\n",
       "    .dataframe thead th {\n",
       "        text-align: right;\n",
       "    }\n",
       "</style>\n",
       "<table border=\"1\" class=\"dataframe\">\n",
       "  <thead>\n",
       "    <tr style=\"text-align: right;\">\n",
       "      <th></th>\n",
       "      <th>id</th>\n",
       "      <th>fecha</th>\n",
       "      <th>producto</th>\n",
       "      <th>categoria</th>\n",
       "      <th>ventas_mensuales</th>\n",
       "      <th>costos</th>\n",
       "    </tr>\n",
       "  </thead>\n",
       "  <tbody>\n",
       "    <tr>\n",
       "      <th>0</th>\n",
       "      <td>1</td>\n",
       "      <td>2023-01-15</td>\n",
       "      <td>Zapatos</td>\n",
       "      <td>A</td>\n",
       "      <td>200000</td>\n",
       "      <td>120000</td>\n",
       "    </tr>\n",
       "    <tr>\n",
       "      <th>1</th>\n",
       "      <td>2</td>\n",
       "      <td>2023-01-16</td>\n",
       "      <td>Camisa</td>\n",
       "      <td>B</td>\n",
       "      <td>150000</td>\n",
       "      <td>80000</td>\n",
       "    </tr>\n",
       "    <tr>\n",
       "      <th>2</th>\n",
       "      <td>3</td>\n",
       "      <td>2023-01-17</td>\n",
       "      <td>Pantalón</td>\n",
       "      <td>C</td>\n",
       "      <td>180000</td>\n",
       "      <td>100000</td>\n",
       "    </tr>\n",
       "    <tr>\n",
       "      <th>3</th>\n",
       "      <td>4</td>\n",
       "      <td>2023-01-18</td>\n",
       "      <td>Zapatos</td>\n",
       "      <td>A</td>\n",
       "      <td>210000</td>\n",
       "      <td>130000</td>\n",
       "    </tr>\n",
       "  </tbody>\n",
       "</table>\n",
       "</div>"
      ],
      "text/plain": [
       "   id       fecha  producto categoria  ventas_mensuales  costos\n",
       "0   1  2023-01-15   Zapatos         A            200000  120000\n",
       "1   2  2023-01-16    Camisa         B            150000   80000\n",
       "2   3  2023-01-17  Pantalón         C            180000  100000\n",
       "3   4  2023-01-18   Zapatos         A            210000  130000"
      ]
     },
     "execution_count": 2,
     "metadata": {},
     "output_type": "execute_result"
    }
   ],
   "source": [
    "df = pd.read_csv('datasets/ventas.csv')\n",
    "df.head()"
   ]
  },
  {
   "cell_type": "code",
   "execution_count": 3,
   "id": "f76d7b94-8f25-4438-a4f1-7f3accb3284f",
   "metadata": {},
   "outputs": [
    {
     "data": {
      "text/html": [
       "<div>\n",
       "<style scoped>\n",
       "    .dataframe tbody tr th:only-of-type {\n",
       "        vertical-align: middle;\n",
       "    }\n",
       "\n",
       "    .dataframe tbody tr th {\n",
       "        vertical-align: top;\n",
       "    }\n",
       "\n",
       "    .dataframe thead th {\n",
       "        text-align: right;\n",
       "    }\n",
       "</style>\n",
       "<table border=\"1\" class=\"dataframe\">\n",
       "  <thead>\n",
       "    <tr style=\"text-align: right;\">\n",
       "      <th></th>\n",
       "      <th>id</th>\n",
       "      <th>fecha</th>\n",
       "      <th>producto</th>\n",
       "      <th>categoria</th>\n",
       "      <th>ventas_mensuales</th>\n",
       "      <th>costos</th>\n",
       "    </tr>\n",
       "  </thead>\n",
       "  <tbody>\n",
       "    <tr>\n",
       "      <th>0</th>\n",
       "      <td>1</td>\n",
       "      <td>2023-01-15</td>\n",
       "      <td>Zapatos</td>\n",
       "      <td>A</td>\n",
       "      <td>200000</td>\n",
       "      <td>120000</td>\n",
       "    </tr>\n",
       "    <tr>\n",
       "      <th>1</th>\n",
       "      <td>2</td>\n",
       "      <td>2023-01-16</td>\n",
       "      <td>Camisa</td>\n",
       "      <td>B</td>\n",
       "      <td>150000</td>\n",
       "      <td>80000</td>\n",
       "    </tr>\n",
       "    <tr>\n",
       "      <th>2</th>\n",
       "      <td>3</td>\n",
       "      <td>2023-01-17</td>\n",
       "      <td>Pantalón</td>\n",
       "      <td>C</td>\n",
       "      <td>180000</td>\n",
       "      <td>100000</td>\n",
       "    </tr>\n",
       "    <tr>\n",
       "      <th>3</th>\n",
       "      <td>4</td>\n",
       "      <td>2023-01-18</td>\n",
       "      <td>Zapatos</td>\n",
       "      <td>A</td>\n",
       "      <td>210000</td>\n",
       "      <td>130000</td>\n",
       "    </tr>\n",
       "  </tbody>\n",
       "</table>\n",
       "</div>"
      ],
      "text/plain": [
       "   id       fecha  producto categoria  ventas_mensuales  costos\n",
       "0   1  2023-01-15   Zapatos         A            200000  120000\n",
       "1   2  2023-01-16    Camisa         B            150000   80000\n",
       "2   3  2023-01-17  Pantalón         C            180000  100000\n",
       "3   4  2023-01-18   Zapatos         A            210000  130000"
      ]
     },
     "execution_count": 3,
     "metadata": {},
     "output_type": "execute_result"
    }
   ],
   "source": [
    "df_excel = pd.read_excel('datasets/datos.xlsx')\n",
    "df_excel.head()"
   ]
  },
  {
   "cell_type": "code",
   "execution_count": 4,
   "id": "d221b891-3463-4bb8-b4af-89c10d43c798",
   "metadata": {},
   "outputs": [
    {
     "data": {
      "text/html": [
       "<div>\n",
       "<style scoped>\n",
       "    .dataframe tbody tr th:only-of-type {\n",
       "        vertical-align: middle;\n",
       "    }\n",
       "\n",
       "    .dataframe tbody tr th {\n",
       "        vertical-align: top;\n",
       "    }\n",
       "\n",
       "    .dataframe thead th {\n",
       "        text-align: right;\n",
       "    }\n",
       "</style>\n",
       "<table border=\"1\" class=\"dataframe\">\n",
       "  <thead>\n",
       "    <tr style=\"text-align: right;\">\n",
       "      <th></th>\n",
       "      <th>id</th>\n",
       "      <th>fecha</th>\n",
       "      <th>producto</th>\n",
       "      <th>categoria</th>\n",
       "      <th>ventas_mensuales</th>\n",
       "      <th>costos</th>\n",
       "    </tr>\n",
       "  </thead>\n",
       "  <tbody>\n",
       "    <tr>\n",
       "      <th>0</th>\n",
       "      <td>1</td>\n",
       "      <td>2023-01-15</td>\n",
       "      <td>Zapatos</td>\n",
       "      <td>A</td>\n",
       "      <td>200000</td>\n",
       "      <td>120000</td>\n",
       "    </tr>\n",
       "    <tr>\n",
       "      <th>1</th>\n",
       "      <td>2</td>\n",
       "      <td>2023-01-16</td>\n",
       "      <td>Camisa</td>\n",
       "      <td>B</td>\n",
       "      <td>150000</td>\n",
       "      <td>80000</td>\n",
       "    </tr>\n",
       "    <tr>\n",
       "      <th>2</th>\n",
       "      <td>3</td>\n",
       "      <td>2023-01-17</td>\n",
       "      <td>Pantalón</td>\n",
       "      <td>C</td>\n",
       "      <td>180000</td>\n",
       "      <td>100000</td>\n",
       "    </tr>\n",
       "    <tr>\n",
       "      <th>3</th>\n",
       "      <td>4</td>\n",
       "      <td>2023-01-18</td>\n",
       "      <td>Zapatos</td>\n",
       "      <td>A</td>\n",
       "      <td>210000</td>\n",
       "      <td>130000</td>\n",
       "    </tr>\n",
       "  </tbody>\n",
       "</table>\n",
       "</div>"
      ],
      "text/plain": [
       "   id       fecha  producto categoria  ventas_mensuales  costos\n",
       "0   1  2023-01-15   Zapatos         A            200000  120000\n",
       "1   2  2023-01-16    Camisa         B            150000   80000\n",
       "2   3  2023-01-17  Pantalón         C            180000  100000\n",
       "3   4  2023-01-18   Zapatos         A            210000  130000"
      ]
     },
     "execution_count": 4,
     "metadata": {},
     "output_type": "execute_result"
    }
   ],
   "source": [
    "df_json = pd.read_json('datasets/datos.json')\n",
    "df_excel.head()"
   ]
  },
  {
   "cell_type": "code",
   "execution_count": 5,
   "id": "00a47940-acac-4a04-840e-b8d7bc4451a0",
   "metadata": {},
   "outputs": [
    {
     "data": {
      "text/html": [
       "<div>\n",
       "<style scoped>\n",
       "    .dataframe tbody tr th:only-of-type {\n",
       "        vertical-align: middle;\n",
       "    }\n",
       "\n",
       "    .dataframe tbody tr th {\n",
       "        vertical-align: top;\n",
       "    }\n",
       "\n",
       "    .dataframe thead th {\n",
       "        text-align: right;\n",
       "    }\n",
       "</style>\n",
       "<table border=\"1\" class=\"dataframe\">\n",
       "  <thead>\n",
       "    <tr style=\"text-align: right;\">\n",
       "      <th></th>\n",
       "      <th>sepal_length</th>\n",
       "      <th>sepal_width</th>\n",
       "      <th>petal_length</th>\n",
       "      <th>petal_width</th>\n",
       "      <th>species</th>\n",
       "    </tr>\n",
       "  </thead>\n",
       "  <tbody>\n",
       "    <tr>\n",
       "      <th>0</th>\n",
       "      <td>5.1</td>\n",
       "      <td>3.5</td>\n",
       "      <td>1.4</td>\n",
       "      <td>0.2</td>\n",
       "      <td>setosa</td>\n",
       "    </tr>\n",
       "    <tr>\n",
       "      <th>1</th>\n",
       "      <td>4.9</td>\n",
       "      <td>3.0</td>\n",
       "      <td>1.4</td>\n",
       "      <td>0.2</td>\n",
       "      <td>setosa</td>\n",
       "    </tr>\n",
       "    <tr>\n",
       "      <th>2</th>\n",
       "      <td>4.7</td>\n",
       "      <td>3.2</td>\n",
       "      <td>1.3</td>\n",
       "      <td>0.2</td>\n",
       "      <td>setosa</td>\n",
       "    </tr>\n",
       "    <tr>\n",
       "      <th>3</th>\n",
       "      <td>4.6</td>\n",
       "      <td>3.1</td>\n",
       "      <td>1.5</td>\n",
       "      <td>0.2</td>\n",
       "      <td>setosa</td>\n",
       "    </tr>\n",
       "    <tr>\n",
       "      <th>4</th>\n",
       "      <td>5.0</td>\n",
       "      <td>3.6</td>\n",
       "      <td>1.4</td>\n",
       "      <td>0.2</td>\n",
       "      <td>setosa</td>\n",
       "    </tr>\n",
       "  </tbody>\n",
       "</table>\n",
       "</div>"
      ],
      "text/plain": [
       "   sepal_length  sepal_width  petal_length  petal_width species\n",
       "0           5.1          3.5           1.4          0.2  setosa\n",
       "1           4.9          3.0           1.4          0.2  setosa\n",
       "2           4.7          3.2           1.3          0.2  setosa\n",
       "3           4.6          3.1           1.5          0.2  setosa\n",
       "4           5.0          3.6           1.4          0.2  setosa"
      ]
     },
     "execution_count": 5,
     "metadata": {},
     "output_type": "execute_result"
    }
   ],
   "source": [
    "url = \"https://raw.githubusercontent.com/mwaskom/seaborn-data/master/iris.csv\"\n",
    "df_url = pd.read_csv(url)\n",
    "df_url.head()"
   ]
  },
  {
   "cell_type": "markdown",
   "id": "16262fd3-a4ef-4fae-a101-583b28c6d007",
   "metadata": {},
   "source": [
    "###  Exploración rápida"
   ]
  },
  {
   "cell_type": "code",
   "execution_count": 6,
   "id": "b810e36a-c57a-420b-b58f-bfce2d085aa6",
   "metadata": {},
   "outputs": [
    {
     "name": "stdout",
     "output_type": "stream",
     "text": [
      "<class 'pandas.core.frame.DataFrame'>\n",
      "RangeIndex: 4 entries, 0 to 3\n",
      "Data columns (total 6 columns):\n",
      " #   Column            Non-Null Count  Dtype \n",
      "---  ------            --------------  ----- \n",
      " 0   id                4 non-null      int64 \n",
      " 1   fecha             4 non-null      object\n",
      " 2   producto          4 non-null      object\n",
      " 3   categoria         4 non-null      object\n",
      " 4   ventas_mensuales  4 non-null      int64 \n",
      " 5   costos            4 non-null      int64 \n",
      "dtypes: int64(3), object(3)\n",
      "memory usage: 324.0+ bytes\n"
     ]
    },
    {
     "data": {
      "text/plain": [
       "Index(['id', 'fecha', 'producto', 'categoria', 'ventas_mensuales', 'costos'], dtype='object')"
      ]
     },
     "execution_count": 6,
     "metadata": {},
     "output_type": "execute_result"
    }
   ],
   "source": [
    "df.info()\n",
    "df.describe()\n",
    "df.columns"
   ]
  },
  {
   "cell_type": "code",
   "execution_count": 14,
   "id": "628a5048-d0c0-4e40-8225-efe45c777b3a",
   "metadata": {},
   "outputs": [
    {
     "name": "stdout",
     "output_type": "stream",
     "text": [
      "fecha       datetime64[ns]\n",
      "producto            object\n",
      "ventas               int64\n",
      "dtype: object\n"
     ]
    }
   ],
   "source": [
    "print(df.dtypes)"
   ]
  },
  {
   "cell_type": "markdown",
   "id": "7b0d1c97-ee25-438e-a5aa-ebe63d252c1e",
   "metadata": {},
   "source": [
    "### Transformaciones básicas"
   ]
  },
  {
   "cell_type": "code",
   "execution_count": 7,
   "id": "f7851bc6-bd16-441e-adff-d43116e9e72a",
   "metadata": {},
   "outputs": [],
   "source": [
    "# Cambiar nombres de columnas\n",
    "df.rename(columns={'ventas_mensuales': 'ventas'}, inplace=True)\n",
    "\n",
    "# Crear nuevas columnas\n",
    "df['margen'] = df['ventas'] - df['costos']\n",
    "\n",
    "#Eliminar columnas\n",
    "df.drop(columns=['id'], inplace=True)\n",
    "\n",
    "# Reordenar columnas\n",
    "nuevo_orden = ['fecha', 'producto', 'ventas']\n",
    "df = df[nuevo_orden]"
   ]
  },
  {
   "cell_type": "markdown",
   "id": "a16e8897-7fbc-4148-bda6-5325716e0bdb",
   "metadata": {},
   "source": [
    "### Transformaciones comunes"
   ]
  },
  {
   "cell_type": "code",
   "execution_count": 8,
   "id": "3ac8c181-0ead-4d4e-8c20-4383905115be",
   "metadata": {},
   "outputs": [],
   "source": [
    "# Cambio de tipos (astype)\n",
    "df['ventas'] = df['ventas'].astype(int)\n",
    "\n",
    "# Fechas (to_datetime)\n",
    "df['fecha'] = pd.to_datetime(df['fecha'])\n",
    "\n",
    "#Strings (str.lower, str.strip)\n",
    "df['producto'] = df['producto'].str.lower().str.strip()"
   ]
  },
  {
   "cell_type": "markdown",
   "id": "01327181-11b2-4648-bf4b-9ca8255c70a9",
   "metadata": {},
   "source": [
    "### Otras transformaciones"
   ]
  },
  {
   "cell_type": "code",
   "execution_count": 22,
   "id": "21d04d9b-4918-47af-97d3-9fd8979ee0cb",
   "metadata": {},
   "outputs": [],
   "source": [
    "# Conversión de texto a minúscula y limpieza de espacios\n",
    "df['producto'] = df['producto'].str.lower().str.strip()\n",
    "\n",
    "# Cálculo de columnas derivadas\n",
    "# df['utilidad_pct'] = ((df['ventas_mensuales'] - df['costos']) / df['costos']) * 100\n",
    "\n",
    "# Renombrar columnas de forma masiva\n",
    "df.columns = df.columns.str.strip().str.lower().str.replace(' ', '_')"
   ]
  },
  {
   "cell_type": "markdown",
   "id": "36651b46-1574-4bab-acf4-cf8b82a75ab6",
   "metadata": {},
   "source": [
    "### Aplicación de funciones"
   ]
  },
  {
   "cell_type": "code",
   "execution_count": 9,
   "id": "acb05a23-c74e-459d-8ac0-b143cc63eda6",
   "metadata": {},
   "outputs": [],
   "source": [
    "# apply, map, replace\n",
    "# df['categoria'] = df['categoria'].map({'A': 'Alta', 'B': 'Media', 'C': 'Baja'})"
   ]
  },
  {
   "cell_type": "markdown",
   "id": "ceb67483-3afc-469a-9643-af62195f0c2e",
   "metadata": {},
   "source": [
    "### Validaciones y control"
   ]
  },
  {
   "cell_type": "code",
   "execution_count": 17,
   "id": "c754c0be-6b6c-478b-85aa-a02390b30e85",
   "metadata": {},
   "outputs": [
    {
     "data": {
      "text/plain": [
       "producto\n",
       "zapatos     2\n",
       "camisa      1\n",
       "pantalón    1\n",
       "Name: count, dtype: int64"
      ]
     },
     "execution_count": 17,
     "metadata": {},
     "output_type": "execute_result"
    }
   ],
   "source": [
    "#Conteo de valores por cada categoría\n",
    "df['producto'].value_counts()"
   ]
  },
  {
   "cell_type": "code",
   "execution_count": 10,
   "id": "2054785f-f652-4288-8d2d-9cc5eb854f3e",
   "metadata": {},
   "outputs": [
    {
     "data": {
      "text/plain": [
       "fecha       4\n",
       "producto    3\n",
       "ventas      4\n",
       "dtype: int64"
      ]
     },
     "execution_count": 10,
     "metadata": {},
     "output_type": "execute_result"
    }
   ],
   "source": [
    "# Conteo de valores únicos por columna\n",
    "df.nunique()"
   ]
  },
  {
   "cell_type": "code",
   "execution_count": 11,
   "id": "ad72666c-57ac-489b-94ba-133e48247e40",
   "metadata": {},
   "outputs": [
    {
     "data": {
      "text/plain": [
       "np.int64(0)"
      ]
     },
     "execution_count": 11,
     "metadata": {},
     "output_type": "execute_result"
    }
   ],
   "source": [
    "# Revisar duplicados\n",
    "df.duplicated().sum()"
   ]
  },
  {
   "cell_type": "code",
   "execution_count": 12,
   "id": "d54d7182-c7a1-4229-94fe-43a9c7f0a7cb",
   "metadata": {},
   "outputs": [
    {
     "data": {
      "text/plain": [
       "fecha       0\n",
       "producto    0\n",
       "ventas      0\n",
       "dtype: int64"
      ]
     },
     "execution_count": 12,
     "metadata": {},
     "output_type": "execute_result"
    }
   ],
   "source": [
    "# Revisar valores nulos\n",
    "df.isnull().sum()"
   ]
  },
  {
   "cell_type": "markdown",
   "id": "5fb2853a-dfd3-4c92-ba64-a98c036c52c7",
   "metadata": {},
   "source": [
    "### Guardar transformación"
   ]
  },
  {
   "cell_type": "code",
   "execution_count": 13,
   "id": "d8f98ebf-6178-4a0c-b495-d10fd3e12558",
   "metadata": {},
   "outputs": [],
   "source": [
    "df.to_csv('datasets/ventas_transformado.csv', index=False)"
   ]
  }
 ],
 "metadata": {
  "kernelspec": {
   "display_name": "Python 3 (ipykernel)",
   "language": "python",
   "name": "python3"
  },
  "language_info": {
   "codemirror_mode": {
    "name": "ipython",
    "version": 3
   },
   "file_extension": ".py",
   "mimetype": "text/x-python",
   "name": "python",
   "nbconvert_exporter": "python",
   "pygments_lexer": "ipython3",
   "version": "3.13.2"
  }
 },
 "nbformat": 4,
 "nbformat_minor": 5
}
