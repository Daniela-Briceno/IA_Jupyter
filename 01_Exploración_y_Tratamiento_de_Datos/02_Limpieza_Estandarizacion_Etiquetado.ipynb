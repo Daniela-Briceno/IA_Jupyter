{
 "cells": [
  {
   "cell_type": "markdown",
   "id": "a426b454-6cde-428c-b509-2bb47b1551f3",
   "metadata": {},
   "source": [
    "# Limpieza, Estandarización y Etiquetado\n",
    "Este notebook aplica técnicas de limpieza, estandarización y etiquetado al dataset ventas.csv."
   ]
  },
  {
   "cell_type": "code",
   "execution_count": 6,
   "id": "c5ca1809-a02b-4a26-b425-2d7470eeee6d",
   "metadata": {},
   "outputs": [
    {
     "data": {
      "text/html": [
       "<div>\n",
       "<style scoped>\n",
       "    .dataframe tbody tr th:only-of-type {\n",
       "        vertical-align: middle;\n",
       "    }\n",
       "\n",
       "    .dataframe tbody tr th {\n",
       "        vertical-align: top;\n",
       "    }\n",
       "\n",
       "    .dataframe thead th {\n",
       "        text-align: right;\n",
       "    }\n",
       "</style>\n",
       "<table border=\"1\" class=\"dataframe\">\n",
       "  <thead>\n",
       "    <tr style=\"text-align: right;\">\n",
       "      <th></th>\n",
       "      <th>id</th>\n",
       "      <th>fecha</th>\n",
       "      <th>producto</th>\n",
       "      <th>categoria</th>\n",
       "      <th>ventas_mensuales</th>\n",
       "      <th>costos</th>\n",
       "    </tr>\n",
       "  </thead>\n",
       "  <tbody>\n",
       "    <tr>\n",
       "      <th>0</th>\n",
       "      <td>1</td>\n",
       "      <td>2023-01-15</td>\n",
       "      <td>Zapatos</td>\n",
       "      <td>A</td>\n",
       "      <td>200000</td>\n",
       "      <td>120000</td>\n",
       "    </tr>\n",
       "    <tr>\n",
       "      <th>1</th>\n",
       "      <td>2</td>\n",
       "      <td>2023-01-16</td>\n",
       "      <td>Camisa</td>\n",
       "      <td>B</td>\n",
       "      <td>150000</td>\n",
       "      <td>80000</td>\n",
       "    </tr>\n",
       "    <tr>\n",
       "      <th>2</th>\n",
       "      <td>3</td>\n",
       "      <td>2023-01-17</td>\n",
       "      <td>Pantalón</td>\n",
       "      <td>C</td>\n",
       "      <td>180000</td>\n",
       "      <td>100000</td>\n",
       "    </tr>\n",
       "    <tr>\n",
       "      <th>3</th>\n",
       "      <td>4</td>\n",
       "      <td>2023-01-18</td>\n",
       "      <td>Zapatos</td>\n",
       "      <td>A</td>\n",
       "      <td>210000</td>\n",
       "      <td>130000</td>\n",
       "    </tr>\n",
       "  </tbody>\n",
       "</table>\n",
       "</div>"
      ],
      "text/plain": [
       "   id       fecha  producto categoria  ventas_mensuales  costos\n",
       "0   1  2023-01-15   Zapatos         A            200000  120000\n",
       "1   2  2023-01-16    Camisa         B            150000   80000\n",
       "2   3  2023-01-17  Pantalón         C            180000  100000\n",
       "3   4  2023-01-18   Zapatos         A            210000  130000"
      ]
     },
     "execution_count": 6,
     "metadata": {},
     "output_type": "execute_result"
    }
   ],
   "source": [
    "import pandas as pd\n",
    "import numpy as np\n",
    "\n",
    "# Cargar datos desde archivo CSV\n",
    "df = pd.read_csv('datasets/ventas.csv')\n",
    "df.head()"
   ]
  },
  {
   "cell_type": "markdown",
   "id": "1dd71b10-7606-4405-87d7-316cb74e8a62",
   "metadata": {},
   "source": [
    "### Revisión de valores nulos"
   ]
  },
  {
   "cell_type": "code",
   "execution_count": 7,
   "id": "51531947-f51f-4bac-b2f1-efbdc9247303",
   "metadata": {},
   "outputs": [
    {
     "data": {
      "text/plain": [
       "id                  0\n",
       "fecha               0\n",
       "producto            0\n",
       "categoria           0\n",
       "ventas_mensuales    0\n",
       "costos              0\n",
       "dtype: int64"
      ]
     },
     "execution_count": 7,
     "metadata": {},
     "output_type": "execute_result"
    }
   ],
   "source": [
    "df.isnull().sum()"
   ]
  },
  {
   "cell_type": "markdown",
   "id": "f11b803b-6ef2-49b5-a7bd-c972e470aea7",
   "metadata": {},
   "source": [
    "### Tratamiento de valores nulos"
   ]
  },
  {
   "cell_type": "code",
   "execution_count": 9,
   "id": "7c91e763-7c96-4d06-be25-5ab3cfd3cb7d",
   "metadata": {},
   "outputs": [],
   "source": [
    "# Rellenar o eliminar nulos si es necesario\n",
    "df['ventas_mensuales'] = df['ventas_mensuales'].fillna(df['ventas_mensuales'].median())\n",
    "df['categoria'] = df['categoria'].fillna('sin_dato')"
   ]
  },
  {
   "cell_type": "markdown",
   "id": "b5e7f547-a977-42ec-9d97-d6b24738fa21",
   "metadata": {},
   "source": [
    "### Eliminación de duplicados"
   ]
  },
  {
   "cell_type": "code",
   "execution_count": 10,
   "id": "c891b6d5-f326-46ff-85f0-3037c2d09b74",
   "metadata": {},
   "outputs": [],
   "source": [
    "df = df.drop_duplicates()"
   ]
  },
  {
   "cell_type": "markdown",
   "id": "86e141fe-1b7a-443d-b57d-acedcfdb18fc",
   "metadata": {},
   "source": [
    "### Estandarización de texto"
   ]
  },
  {
   "cell_type": "code",
   "execution_count": 11,
   "id": "de640018-dbcc-4703-b909-8ab01b66f18b",
   "metadata": {},
   "outputs": [],
   "source": [
    "df['producto'] = df['producto'].str.lower().str.strip()\n",
    "df['producto'] = df['producto'].str.replace(r'[^a-zA-Z0-9áéíóúüñ ]', '', regex=True)"
   ]
  },
  {
   "cell_type": "markdown",
   "id": "ba212b7c-0a16-41b2-8f7e-1c3ca0cc8b7d",
   "metadata": {},
   "source": [
    "### Conversión y validación de fechas"
   ]
  },
  {
   "cell_type": "code",
   "execution_count": 12,
   "id": "e7ff4746-d2c7-4ac9-b95c-53f07d96df6f",
   "metadata": {},
   "outputs": [],
   "source": [
    "df['fecha'] = pd.to_datetime(df['fecha'], errors='coerce')\n",
    "df['anio'] = df['fecha'].dt.year\n",
    "df['mes'] = df['fecha'].dt.month"
   ]
  },
  {
   "cell_type": "markdown",
   "id": "8ef091c1-14b4-4c69-9947-2a4358d90a8e",
   "metadata": {},
   "source": [
    "### Etiquetado de columnas"
   ]
  },
  {
   "cell_type": "code",
   "execution_count": 14,
   "id": "8e31770e-4df4-4fba-b55a-641d5c832f0c",
   "metadata": {},
   "outputs": [],
   "source": [
    "df['categoria'] = df['categoria'].map({'A': 'Alta', 'B': 'Media', 'C': 'Baja'})\n",
    "\n",
    "# Etiquetado por rangos de ventas\n",
    "bins = [0, 150000, 300000, 500000]\n",
    "etiquetas = ['bajo', 'medio', 'alto']\n",
    "df['rango_venta'] = pd.cut(df['ventas_mensuales'], bins=bins, labels=etiquetas)"
   ]
  },
  {
   "cell_type": "markdown",
   "id": "b0db138c-11d2-4d2d-a192-58dabc606b16",
   "metadata": {},
   "source": [
    "### Revisión de tipos de datos y resumen"
   ]
  },
  {
   "cell_type": "code",
   "execution_count": 15,
   "id": "2ad94ae6-0080-4a29-9036-5d4fcbf117cb",
   "metadata": {},
   "outputs": [
    {
     "data": {
      "text/html": [
       "<div>\n",
       "<style scoped>\n",
       "    .dataframe tbody tr th:only-of-type {\n",
       "        vertical-align: middle;\n",
       "    }\n",
       "\n",
       "    .dataframe tbody tr th {\n",
       "        vertical-align: top;\n",
       "    }\n",
       "\n",
       "    .dataframe thead th {\n",
       "        text-align: right;\n",
       "    }\n",
       "</style>\n",
       "<table border=\"1\" class=\"dataframe\">\n",
       "  <thead>\n",
       "    <tr style=\"text-align: right;\">\n",
       "      <th></th>\n",
       "      <th>id</th>\n",
       "      <th>fecha</th>\n",
       "      <th>ventas_mensuales</th>\n",
       "      <th>costos</th>\n",
       "      <th>anio</th>\n",
       "      <th>mes</th>\n",
       "    </tr>\n",
       "  </thead>\n",
       "  <tbody>\n",
       "    <tr>\n",
       "      <th>count</th>\n",
       "      <td>4.000000</td>\n",
       "      <td>4</td>\n",
       "      <td>4.000000</td>\n",
       "      <td>4.000000</td>\n",
       "      <td>4.0</td>\n",
       "      <td>4.0</td>\n",
       "    </tr>\n",
       "    <tr>\n",
       "      <th>mean</th>\n",
       "      <td>2.500000</td>\n",
       "      <td>2023-01-16 12:00:00</td>\n",
       "      <td>185000.000000</td>\n",
       "      <td>107500.000000</td>\n",
       "      <td>2023.0</td>\n",
       "      <td>1.0</td>\n",
       "    </tr>\n",
       "    <tr>\n",
       "      <th>min</th>\n",
       "      <td>1.000000</td>\n",
       "      <td>2023-01-15 00:00:00</td>\n",
       "      <td>150000.000000</td>\n",
       "      <td>80000.000000</td>\n",
       "      <td>2023.0</td>\n",
       "      <td>1.0</td>\n",
       "    </tr>\n",
       "    <tr>\n",
       "      <th>25%</th>\n",
       "      <td>1.750000</td>\n",
       "      <td>2023-01-15 18:00:00</td>\n",
       "      <td>172500.000000</td>\n",
       "      <td>95000.000000</td>\n",
       "      <td>2023.0</td>\n",
       "      <td>1.0</td>\n",
       "    </tr>\n",
       "    <tr>\n",
       "      <th>50%</th>\n",
       "      <td>2.500000</td>\n",
       "      <td>2023-01-16 12:00:00</td>\n",
       "      <td>190000.000000</td>\n",
       "      <td>110000.000000</td>\n",
       "      <td>2023.0</td>\n",
       "      <td>1.0</td>\n",
       "    </tr>\n",
       "    <tr>\n",
       "      <th>75%</th>\n",
       "      <td>3.250000</td>\n",
       "      <td>2023-01-17 06:00:00</td>\n",
       "      <td>202500.000000</td>\n",
       "      <td>122500.000000</td>\n",
       "      <td>2023.0</td>\n",
       "      <td>1.0</td>\n",
       "    </tr>\n",
       "    <tr>\n",
       "      <th>max</th>\n",
       "      <td>4.000000</td>\n",
       "      <td>2023-01-18 00:00:00</td>\n",
       "      <td>210000.000000</td>\n",
       "      <td>130000.000000</td>\n",
       "      <td>2023.0</td>\n",
       "      <td>1.0</td>\n",
       "    </tr>\n",
       "    <tr>\n",
       "      <th>std</th>\n",
       "      <td>1.290994</td>\n",
       "      <td>NaN</td>\n",
       "      <td>26457.513111</td>\n",
       "      <td>22173.557826</td>\n",
       "      <td>0.0</td>\n",
       "      <td>0.0</td>\n",
       "    </tr>\n",
       "  </tbody>\n",
       "</table>\n",
       "</div>"
      ],
      "text/plain": [
       "             id                fecha  ventas_mensuales         costos    anio  \\\n",
       "count  4.000000                    4          4.000000       4.000000     4.0   \n",
       "mean   2.500000  2023-01-16 12:00:00     185000.000000  107500.000000  2023.0   \n",
       "min    1.000000  2023-01-15 00:00:00     150000.000000   80000.000000  2023.0   \n",
       "25%    1.750000  2023-01-15 18:00:00     172500.000000   95000.000000  2023.0   \n",
       "50%    2.500000  2023-01-16 12:00:00     190000.000000  110000.000000  2023.0   \n",
       "75%    3.250000  2023-01-17 06:00:00     202500.000000  122500.000000  2023.0   \n",
       "max    4.000000  2023-01-18 00:00:00     210000.000000  130000.000000  2023.0   \n",
       "std    1.290994                  NaN      26457.513111   22173.557826     0.0   \n",
       "\n",
       "       mes  \n",
       "count  4.0  \n",
       "mean   1.0  \n",
       "min    1.0  \n",
       "25%    1.0  \n",
       "50%    1.0  \n",
       "75%    1.0  \n",
       "max    1.0  \n",
       "std    0.0  "
      ]
     },
     "execution_count": 15,
     "metadata": {},
     "output_type": "execute_result"
    }
   ],
   "source": [
    "df.dtypes\n",
    "df.describe()"
   ]
  },
  {
   "cell_type": "markdown",
   "id": "eeb9512e-108d-461b-80f3-0f05e91fa15f",
   "metadata": {},
   "source": [
    "### Guardar dataset limpio y etiquetado"
   ]
  },
  {
   "cell_type": "code",
   "execution_count": 17,
   "id": "abd70aa2-af8c-4acc-9deb-abe5385b4d8f",
   "metadata": {},
   "outputs": [],
   "source": [
    "df.to_csv('ventas_limpias_etiquetadas.csv', index=False)"
   ]
  },
  {
   "cell_type": "code",
   "execution_count": null,
   "id": "c5fe6316-24a1-47d3-aaf9-f36f8c4a0210",
   "metadata": {},
   "outputs": [],
   "source": []
  }
 ],
 "metadata": {
  "kernelspec": {
   "display_name": "Python 3 (ipykernel)",
   "language": "python",
   "name": "python3"
  },
  "language_info": {
   "codemirror_mode": {
    "name": "ipython",
    "version": 3
   },
   "file_extension": ".py",
   "mimetype": "text/x-python",
   "name": "python",
   "nbconvert_exporter": "python",
   "pygments_lexer": "ipython3",
   "version": "3.13.2"
  }
 },
 "nbformat": 4,
 "nbformat_minor": 5
}
