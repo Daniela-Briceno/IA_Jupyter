{
 "cells": [
  {
   "cell_type": "markdown",
   "id": "fc96d397-f18c-4616-bc33-c708efb5efaf",
   "metadata": {},
   "source": [
    "# Exploración Estadística\n",
    "\n",
    "Este notebook analiza la estructura estadística del dataset `ventas_limpias_etiquetadas.csv`, describiendo variables numéricas y categóricas, distribuciones, correlaciones y medidas de tendencia central."
   ]
  },
  {
   "cell_type": "code",
   "execution_count": 7,
   "id": "7f79bbe9-d44d-49ef-b38d-a60643e44fa1",
   "metadata": {},
   "outputs": [
    {
     "data": {
      "text/html": [
       "<div>\n",
       "<style scoped>\n",
       "    .dataframe tbody tr th:only-of-type {\n",
       "        vertical-align: middle;\n",
       "    }\n",
       "\n",
       "    .dataframe tbody tr th {\n",
       "        vertical-align: top;\n",
       "    }\n",
       "\n",
       "    .dataframe thead th {\n",
       "        text-align: right;\n",
       "    }\n",
       "</style>\n",
       "<table border=\"1\" class=\"dataframe\">\n",
       "  <thead>\n",
       "    <tr style=\"text-align: right;\">\n",
       "      <th></th>\n",
       "      <th>id</th>\n",
       "      <th>fecha</th>\n",
       "      <th>producto</th>\n",
       "      <th>categoria</th>\n",
       "      <th>ventas_mensuales</th>\n",
       "      <th>costos</th>\n",
       "      <th>anio</th>\n",
       "      <th>mes</th>\n",
       "      <th>rango_venta</th>\n",
       "    </tr>\n",
       "  </thead>\n",
       "  <tbody>\n",
       "    <tr>\n",
       "      <th>0</th>\n",
       "      <td>1</td>\n",
       "      <td>2023-01-15</td>\n",
       "      <td>zapatos</td>\n",
       "      <td>NaN</td>\n",
       "      <td>200000</td>\n",
       "      <td>120000</td>\n",
       "      <td>2023</td>\n",
       "      <td>1</td>\n",
       "      <td>medio</td>\n",
       "    </tr>\n",
       "    <tr>\n",
       "      <th>1</th>\n",
       "      <td>2</td>\n",
       "      <td>2023-01-16</td>\n",
       "      <td>camisa</td>\n",
       "      <td>NaN</td>\n",
       "      <td>150000</td>\n",
       "      <td>80000</td>\n",
       "      <td>2023</td>\n",
       "      <td>1</td>\n",
       "      <td>bajo</td>\n",
       "    </tr>\n",
       "    <tr>\n",
       "      <th>2</th>\n",
       "      <td>3</td>\n",
       "      <td>2023-01-17</td>\n",
       "      <td>pantalón</td>\n",
       "      <td>NaN</td>\n",
       "      <td>180000</td>\n",
       "      <td>100000</td>\n",
       "      <td>2023</td>\n",
       "      <td>1</td>\n",
       "      <td>medio</td>\n",
       "    </tr>\n",
       "    <tr>\n",
       "      <th>3</th>\n",
       "      <td>4</td>\n",
       "      <td>2023-01-18</td>\n",
       "      <td>zapatos</td>\n",
       "      <td>NaN</td>\n",
       "      <td>210000</td>\n",
       "      <td>130000</td>\n",
       "      <td>2023</td>\n",
       "      <td>1</td>\n",
       "      <td>medio</td>\n",
       "    </tr>\n",
       "  </tbody>\n",
       "</table>\n",
       "</div>"
      ],
      "text/plain": [
       "   id       fecha  producto  categoria  ventas_mensuales  costos  anio  mes  \\\n",
       "0   1  2023-01-15   zapatos        NaN            200000  120000  2023    1   \n",
       "1   2  2023-01-16    camisa        NaN            150000   80000  2023    1   \n",
       "2   3  2023-01-17  pantalón        NaN            180000  100000  2023    1   \n",
       "3   4  2023-01-18   zapatos        NaN            210000  130000  2023    1   \n",
       "\n",
       "  rango_venta  \n",
       "0       medio  \n",
       "1        bajo  \n",
       "2       medio  \n",
       "3       medio  "
      ]
     },
     "execution_count": 7,
     "metadata": {},
     "output_type": "execute_result"
    }
   ],
   "source": [
    "import pandas as pd\n",
    "import numpy as np\n",
    "import matplotlib.pyplot as plt\n",
    "import seaborn as sns\n",
    "sns.set(style='whitegrid')\n",
    "\n",
    "# Cargar dataset\n",
    "ruta = 'ventas_limpias_etiquetadas.csv'\n",
    "df = pd.read_csv(ruta)\n",
    "df.head()"
   ]
  },
  {
   "cell_type": "code",
   "execution_count": 23,
   "id": "9cb03064-ee5f-4085-8c3a-21c76d3e9236",
   "metadata": {},
   "outputs": [
    {
     "data": {
      "text/plain": [
       "id                  4\n",
       "fecha               4\n",
       "producto            3\n",
       "categoria           1\n",
       "ventas_mensuales    4\n",
       "costos              4\n",
       "anio                1\n",
       "mes                 1\n",
       "rango_venta         2\n",
       "dtype: int64"
      ]
     },
     "execution_count": 23,
     "metadata": {},
     "output_type": "execute_result"
    }
   ],
   "source": [
    "# Valores únicos por columna\n",
    "df.nunique()"
   ]
  },
  {
   "cell_type": "code",
   "execution_count": 8,
   "id": "8f3af60f-0c59-486e-9e36-06065c83ef24",
   "metadata": {},
   "outputs": [
    {
     "data": {
      "text/html": [
       "<div>\n",
       "<style scoped>\n",
       "    .dataframe tbody tr th:only-of-type {\n",
       "        vertical-align: middle;\n",
       "    }\n",
       "\n",
       "    .dataframe tbody tr th {\n",
       "        vertical-align: top;\n",
       "    }\n",
       "\n",
       "    .dataframe thead th {\n",
       "        text-align: right;\n",
       "    }\n",
       "</style>\n",
       "<table border=\"1\" class=\"dataframe\">\n",
       "  <thead>\n",
       "    <tr style=\"text-align: right;\">\n",
       "      <th></th>\n",
       "      <th>id</th>\n",
       "      <th>categoria</th>\n",
       "      <th>ventas_mensuales</th>\n",
       "      <th>costos</th>\n",
       "      <th>anio</th>\n",
       "      <th>mes</th>\n",
       "    </tr>\n",
       "  </thead>\n",
       "  <tbody>\n",
       "    <tr>\n",
       "      <th>count</th>\n",
       "      <td>4.000000</td>\n",
       "      <td>0.0</td>\n",
       "      <td>4.000000</td>\n",
       "      <td>4.000000</td>\n",
       "      <td>4.0</td>\n",
       "      <td>4.0</td>\n",
       "    </tr>\n",
       "    <tr>\n",
       "      <th>mean</th>\n",
       "      <td>2.500000</td>\n",
       "      <td>NaN</td>\n",
       "      <td>185000.000000</td>\n",
       "      <td>107500.000000</td>\n",
       "      <td>2023.0</td>\n",
       "      <td>1.0</td>\n",
       "    </tr>\n",
       "    <tr>\n",
       "      <th>std</th>\n",
       "      <td>1.290994</td>\n",
       "      <td>NaN</td>\n",
       "      <td>26457.513111</td>\n",
       "      <td>22173.557826</td>\n",
       "      <td>0.0</td>\n",
       "      <td>0.0</td>\n",
       "    </tr>\n",
       "    <tr>\n",
       "      <th>min</th>\n",
       "      <td>1.000000</td>\n",
       "      <td>NaN</td>\n",
       "      <td>150000.000000</td>\n",
       "      <td>80000.000000</td>\n",
       "      <td>2023.0</td>\n",
       "      <td>1.0</td>\n",
       "    </tr>\n",
       "    <tr>\n",
       "      <th>25%</th>\n",
       "      <td>1.750000</td>\n",
       "      <td>NaN</td>\n",
       "      <td>172500.000000</td>\n",
       "      <td>95000.000000</td>\n",
       "      <td>2023.0</td>\n",
       "      <td>1.0</td>\n",
       "    </tr>\n",
       "    <tr>\n",
       "      <th>50%</th>\n",
       "      <td>2.500000</td>\n",
       "      <td>NaN</td>\n",
       "      <td>190000.000000</td>\n",
       "      <td>110000.000000</td>\n",
       "      <td>2023.0</td>\n",
       "      <td>1.0</td>\n",
       "    </tr>\n",
       "    <tr>\n",
       "      <th>75%</th>\n",
       "      <td>3.250000</td>\n",
       "      <td>NaN</td>\n",
       "      <td>202500.000000</td>\n",
       "      <td>122500.000000</td>\n",
       "      <td>2023.0</td>\n",
       "      <td>1.0</td>\n",
       "    </tr>\n",
       "    <tr>\n",
       "      <th>max</th>\n",
       "      <td>4.000000</td>\n",
       "      <td>NaN</td>\n",
       "      <td>210000.000000</td>\n",
       "      <td>130000.000000</td>\n",
       "      <td>2023.0</td>\n",
       "      <td>1.0</td>\n",
       "    </tr>\n",
       "  </tbody>\n",
       "</table>\n",
       "</div>"
      ],
      "text/plain": [
       "             id  categoria  ventas_mensuales         costos    anio  mes\n",
       "count  4.000000        0.0          4.000000       4.000000     4.0  4.0\n",
       "mean   2.500000        NaN     185000.000000  107500.000000  2023.0  1.0\n",
       "std    1.290994        NaN      26457.513111   22173.557826     0.0  0.0\n",
       "min    1.000000        NaN     150000.000000   80000.000000  2023.0  1.0\n",
       "25%    1.750000        NaN     172500.000000   95000.000000  2023.0  1.0\n",
       "50%    2.500000        NaN     190000.000000  110000.000000  2023.0  1.0\n",
       "75%    3.250000        NaN     202500.000000  122500.000000  2023.0  1.0\n",
       "max    4.000000        NaN     210000.000000  130000.000000  2023.0  1.0"
      ]
     },
     "execution_count": 8,
     "metadata": {},
     "output_type": "execute_result"
    }
   ],
   "source": [
    "df.describe()"
   ]
  },
  {
   "cell_type": "markdown",
   "id": "f7b08833-1d8c-440c-85af-451fec78c02b",
   "metadata": {},
   "source": [
    "### Distribución de variables numéricas"
   ]
  },
  {
   "cell_type": "code",
   "execution_count": 11,
   "id": "2963bbef-0a05-4eaf-866c-44b317b21f4f",
   "metadata": {},
   "outputs": [
    {
     "data": {
      "image/png": "[encoded data removed]",
      "text/plain": [
       "<Figure size 1200x400 with 2 Axes>"
      ]
     },
     "metadata": {},
     "output_type": "display_data"
    }
   ],
   "source": [
    "fig, axs = plt.subplots(1, 2, figsize=(12, 4))\n",
    "sns.histplot(df['ventas_mensuales'], kde=True, ax=axs[0])\n",
    "axs[0].set_title('Distribución de ventas mensuales')\n",
    "\n",
    "sns.histplot(df['costos'], kde=True, ax=axs[1])\n",
    "axs[1].set_title('Distribución de costos')\n",
    "\n",
    "plt.tight_layout()\n",
    "plt.show()"
   ]
  },
  {
   "cell_type": "markdown",
   "id": "1fd4e6c3-5fa0-4de9-a18f-dd7bbd77cf6b",
   "metadata": {},
   "source": [
    "### Análisis de correlaciones"
   ]
  },
  {
   "cell_type": "code",
   "execution_count": 16,
   "id": "de329c5e-2ee9-4a49-85d7-941d005db723",
   "metadata": {},
   "outputs": [
    {
     "data": {
      "image/png": "[encoded data removed]",
      "text/plain": [
       "<Figure size 640x480 with 2 Axes>"
      ]
     },
     "metadata": {},
     "output_type": "display_data"
    }
   ],
   "source": [
    "correlaciones = df[['ventas_mensuales', 'costos']].corr()\n",
    "sns.heatmap(correlaciones, annot=True, cmap='coolwarm')\n",
    "plt.title('Matriz de correlación')\n",
    "plt.show()"
   ]
  },
  {
   "cell_type": "markdown",
   "id": "22dd1435-7c1c-4719-8f16-f8f1aa4895a1",
   "metadata": {},
   "source": [
    "### Análisis cruzado: ventas vs categoría"
   ]
  },
  {
   "cell_type": "code",
   "execution_count": 17,
   "id": "99b6eeae-0e35-4e8e-8f0a-fee19f2810d3",
   "metadata": {},
   "outputs": [
    {
     "data": {
      "image/png": "[encoded data removed]",
      "text/plain": [
       "<Figure size 640x480 with 1 Axes>"
      ]
     },
     "metadata": {},
     "output_type": "display_data"
    }
   ],
   "source": [
    "sns.boxplot(x='categoria', y='ventas_mensuales', data=df)\n",
    "plt.title('Distribución de ventas por categoría')\n",
    "plt.show()"
   ]
  },
  {
   "cell_type": "markdown",
   "id": "c7288c5b-a962-40a5-8101-809d839d0b47",
   "metadata": {},
   "source": [
    "### Estadísticas agrupadas por producto"
   ]
  },
  {
   "cell_type": "code",
   "execution_count": 18,
   "id": "217b9817-aa30-4239-998f-a40a93373904",
   "metadata": {},
   "outputs": [
    {
     "data": {
      "text/html": [
       "<div>\n",
       "<style scoped>\n",
       "    .dataframe tbody tr th:only-of-type {\n",
       "        vertical-align: middle;\n",
       "    }\n",
       "\n",
       "    .dataframe tbody tr th {\n",
       "        vertical-align: top;\n",
       "    }\n",
       "\n",
       "    .dataframe thead tr th {\n",
       "        text-align: left;\n",
       "    }\n",
       "\n",
       "    .dataframe thead tr:last-of-type th {\n",
       "        text-align: right;\n",
       "    }\n",
       "</style>\n",
       "<table border=\"1\" class=\"dataframe\">\n",
       "  <thead>\n",
       "    <tr>\n",
       "      <th></th>\n",
       "      <th colspan=\"3\" halign=\"left\">ventas_mensuales</th>\n",
       "      <th colspan=\"3\" halign=\"left\">costos</th>\n",
       "    </tr>\n",
       "    <tr>\n",
       "      <th></th>\n",
       "      <th>mean</th>\n",
       "      <th>median</th>\n",
       "      <th>std</th>\n",
       "      <th>mean</th>\n",
       "      <th>median</th>\n",
       "      <th>std</th>\n",
       "    </tr>\n",
       "    <tr>\n",
       "      <th>producto</th>\n",
       "      <th></th>\n",
       "      <th></th>\n",
       "      <th></th>\n",
       "      <th></th>\n",
       "      <th></th>\n",
       "      <th></th>\n",
       "    </tr>\n",
       "  </thead>\n",
       "  <tbody>\n",
       "    <tr>\n",
       "      <th>camisa</th>\n",
       "      <td>150000.0</td>\n",
       "      <td>150000.0</td>\n",
       "      <td>NaN</td>\n",
       "      <td>80000.0</td>\n",
       "      <td>80000.0</td>\n",
       "      <td>NaN</td>\n",
       "    </tr>\n",
       "    <tr>\n",
       "      <th>pantalón</th>\n",
       "      <td>180000.0</td>\n",
       "      <td>180000.0</td>\n",
       "      <td>NaN</td>\n",
       "      <td>100000.0</td>\n",
       "      <td>100000.0</td>\n",
       "      <td>NaN</td>\n",
       "    </tr>\n",
       "    <tr>\n",
       "      <th>zapatos</th>\n",
       "      <td>205000.0</td>\n",
       "      <td>205000.0</td>\n",
       "      <td>7071.067812</td>\n",
       "      <td>125000.0</td>\n",
       "      <td>125000.0</td>\n",
       "      <td>7071.067812</td>\n",
       "    </tr>\n",
       "  </tbody>\n",
       "</table>\n",
       "</div>"
      ],
      "text/plain": [
       "         ventas_mensuales                           costos            \\\n",
       "                     mean    median          std      mean    median   \n",
       "producto                                                               \n",
       "camisa           150000.0  150000.0          NaN   80000.0   80000.0   \n",
       "pantalón         180000.0  180000.0          NaN  100000.0  100000.0   \n",
       "zapatos          205000.0  205000.0  7071.067812  125000.0  125000.0   \n",
       "\n",
       "                       \n",
       "                  std  \n",
       "producto               \n",
       "camisa            NaN  \n",
       "pantalón          NaN  \n",
       "zapatos   7071.067812  "
      ]
     },
     "execution_count": 18,
     "metadata": {},
     "output_type": "execute_result"
    }
   ],
   "source": [
    "df.groupby('producto')[['ventas_mensuales', 'costos']].agg(['mean', 'median', 'std'])"
   ]
  },
  {
   "cell_type": "code",
   "execution_count": 21,
   "id": "97055c6d-589f-43d6-80ba-8cd941c238ec",
   "metadata": {},
   "outputs": [],
   "source": [
    "### Guardar estadísticas\n",
    "# df.describe().to_csv('/mnt/data/estadisticas_basicas.csv')"
   ]
  },
  {
   "cell_type": "code",
   "execution_count": null,
   "id": "c059f1df-8c13-4130-bdc9-1e54243bd366",
   "metadata": {},
   "outputs": [],
   "source": []
  }
 ],
 "metadata": {
  "kernelspec": {
   "display_name": "Python 3 (ipykernel)",
   "language": "python",
   "name": "python3"
  },
  "language_info": {
   "codemirror_mode": {
    "name": "ipython",
    "version": 3
   },
   "file_extension": ".py",
   "mimetype": "text/x-python",
   "name": "python",
   "nbconvert_exporter": "python",
   "pygments_lexer": "ipython3",
   "version": "3.13.2"
  }
 },
 "nbformat": 4,
 "nbformat_minor": 5
}
