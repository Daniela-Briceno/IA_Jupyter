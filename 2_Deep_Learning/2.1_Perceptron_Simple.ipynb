{
 "cells": [
  {
   "cell_type": "markdown",
   "id": "511edf94-f19e-4f83-b6dd-062094a2d296",
   "metadata": {},
   "source": [
    "- Perceptrón simple\n",
    "- Funciones de activación (ReLU, Sigmoid, Tanh, Softmax)\n",
    "- Propagación hacia adelante (forward)\n",
    "- Retropropagación (backpropagation)\n",
    "- Inicialización de pesos (Xavier, He, etc.)"
   ]
  },
  {
   "cell_type": "code",
   "execution_count": 41,
   "id": "827b1afc-d2ef-48df-9deb-c56a8492f9af",
   "metadata": {},
   "outputs": [
    {
     "data": {
      "text/html": [
       "<div>\n",
       "<style scoped>\n",
       "    .dataframe tbody tr th:only-of-type {\n",
       "        vertical-align: middle;\n",
       "    }\n",
       "\n",
       "    .dataframe tbody tr th {\n",
       "        vertical-align: top;\n",
       "    }\n",
       "\n",
       "    .dataframe thead th {\n",
       "        text-align: right;\n",
       "    }\n",
       "</style>\n",
       "<table border=\"1\" class=\"dataframe\">\n",
       "  <thead>\n",
       "    <tr style=\"text-align: right;\">\n",
       "      <th></th>\n",
       "      <th>Fecha_Hora</th>\n",
       "      <th>Ciudad</th>\n",
       "      <th>Temperatura_C</th>\n",
       "      <th>Humedad_%</th>\n",
       "      <th>Vel_Viento_mps</th>\n",
       "      <th>Presion_hPa</th>\n",
       "      <th>Estado_Clima</th>\n",
       "    </tr>\n",
       "  </thead>\n",
       "  <tbody>\n",
       "    <tr>\n",
       "      <th>0</th>\n",
       "      <td>2024-01-01 00:00:00</td>\n",
       "      <td>Madrid</td>\n",
       "      <td>27</td>\n",
       "      <td>79</td>\n",
       "      <td>184</td>\n",
       "      <td>993.5</td>\n",
       "      <td>Nublado</td>\n",
       "    </tr>\n",
       "    <tr>\n",
       "      <th>1</th>\n",
       "      <td>2024-01-01 01:00:00</td>\n",
       "      <td>Madrid</td>\n",
       "      <td>23</td>\n",
       "      <td>58</td>\n",
       "      <td>52</td>\n",
       "      <td>1012.5</td>\n",
       "      <td>Nublado</td>\n",
       "    </tr>\n",
       "    <tr>\n",
       "      <th>2</th>\n",
       "      <td>2024-01-01 02:00:00</td>\n",
       "      <td>Madrid</td>\n",
       "      <td>35</td>\n",
       "      <td>91</td>\n",
       "      <td>196</td>\n",
       "      <td>992.9</td>\n",
       "      <td>Nublado</td>\n",
       "    </tr>\n",
       "    <tr>\n",
       "      <th>3</th>\n",
       "      <td>2024-01-01 03:00:00</td>\n",
       "      <td>Madrid</td>\n",
       "      <td>11</td>\n",
       "      <td>96</td>\n",
       "      <td>114</td>\n",
       "      <td>1019.7</td>\n",
       "      <td>Nevado</td>\n",
       "    </tr>\n",
       "    <tr>\n",
       "      <th>4</th>\n",
       "      <td>2024-01-01 04:00:00</td>\n",
       "      <td>Madrid</td>\n",
       "      <td>34</td>\n",
       "      <td>62</td>\n",
       "      <td>147</td>\n",
       "      <td>1003.3</td>\n",
       "      <td>Tormentoso</td>\n",
       "    </tr>\n",
       "  </tbody>\n",
       "</table>\n",
       "</div>"
      ],
      "text/plain": [
       "           Fecha_Hora  Ciudad  Temperatura_C  Humedad_%  Vel_Viento_mps  \\\n",
       "0 2024-01-01 00:00:00  Madrid             27         79             184   \n",
       "1 2024-01-01 01:00:00  Madrid             23         58              52   \n",
       "2 2024-01-01 02:00:00  Madrid             35         91             196   \n",
       "3 2024-01-01 03:00:00  Madrid             11         96             114   \n",
       "4 2024-01-01 04:00:00  Madrid             34         62             147   \n",
       "\n",
       "   Presion_hPa Estado_Clima  \n",
       "0        993.5      Nublado  \n",
       "1       1012.5      Nublado  \n",
       "2        992.9      Nublado  \n",
       "3       1019.7       Nevado  \n",
       "4       1003.3   Tormentoso  "
      ]
     },
     "execution_count": 41,
     "metadata": {},
     "output_type": "execute_result"
    }
   ],
   "source": [
    "import numpy as np\n",
    "import pandas as pd\n",
    "from sklearn.model_selection import train_test_split\n",
    "from sklearn.preprocessing import StandardScaler, LabelEncoder\n",
    "\n",
    "# Preprocesamiento del dataset original\n",
    "df = pd.read_csv('Historia_Climatica.csv')\n",
    "df[\"Fecha_Hora\"] = pd.to_datetime(df[\"Fecha_Hora\"], format=\"%m/%d/%y %H:%M\")\n",
    "df[\"Presion_hPa\"] = df[\"Presion_hPa\"] / 10\n",
    "df.head()"
   ]
  },
  {
   "cell_type": "code",
   "execution_count": 42,
   "id": "4d33a285-f88c-465b-9957-4ebefe82dae8",
   "metadata": {},
   "outputs": [],
   "source": [
    "# Convertir clases a números\n",
    "le = LabelEncoder()\n",
    "df[\"Estado_Clima_Cod\"] = le.fit_transform(df[\"Estado_Clima\"])\n",
    "\n",
    "# Selección de características y etiquetas\n",
    "X = df[[\"Temperatura_C\", \"Humedad_%\", \"Vel_Viento_mps\", \"Presion_hPa\"]].values\n",
    "y = df[\"Estado_Clima_Cod\"].values\n",
    "\n",
    "# Escalado\n",
    "scaler = StandardScaler()\n",
    "X_scaled = scaler.fit_transform(X)\n",
    "\n",
    "# División de datos\n",
    "X_train, X_test, y_train, y_test = train_test_split(X_scaled, y, test_size=0.2, random_state=42)"
   ]
  },
  {
   "cell_type": "code",
   "execution_count": 43,
   "id": "27abb951",
   "metadata": {},
   "outputs": [
    {
     "name": "stdout",
     "output_type": "stream",
     "text": [
      "Pesos inicializados con Xavier:\n",
      "[[-0.38910642  0.38825998 -0.33312117  1.12188504  0.11795086 -0.86051495]\n",
      " [-0.69220812  0.88999898 -0.24563739 -0.11683787  1.17549807  0.08855494]\n",
      " [ 0.08948395 -0.502815    0.4747012  -0.01086967  0.05511085 -0.10638563]\n",
      " [-0.20277206  0.02050023  0.98587433  0.13269855  0.50883426 -1.78150893]]\n",
      "\n",
      "Pesos inicializados con He:\n",
      "[[-0.03344275  0.02008107  0.31649231  0.94603021  0.70283111 -0.91484208]\n",
      " [ 0.40837277  0.18799491  0.66069781 -0.16385762  0.16127993  0.67138721]\n",
      " [-0.16048703 -0.19484161 -0.31219834  0.71321272 -1.36005872 -0.11808753]\n",
      " [-0.23605567 -0.84978643 -0.80681517 -0.18756673  0.0746559  -0.76656038]]\n"
     ]
    }
   ],
   "source": [
    "# Inicialización de pesos (Xavier, He, etc.)\n",
    "def inicializacion_xavier(tamano):\n",
    "  return np.random.randn(*tamano) * np.sqrt(1 / tamano[0])\n",
    "\n",
    "def inicializacion_he(tamano):\n",
    "  return np.random.randn(*tamano) * np.sqrt(2 / tamano[0])\n",
    "\n",
    "# Ejemplo: inicialización de pesos para 4 entradas y 6 salidas\n",
    "tamano = (4, len(np.unique(y)))\n",
    "W_pesosX = inicializacion_xavier(tamano)\n",
    "W_pesosH = inicializacion_he(tamano)\n",
    "\n",
    "print(\"Pesos inicializados con Xavier:\")\n",
    "print(W_pesosX)\n",
    "\n",
    "print(\"\\nPesos inicializados con He:\")\n",
    "print(W_pesosH)\n"
   ]
  },
  {
   "cell_type": "code",
   "execution_count": 44,
   "id": "7cdec806-00ba-4c5d-8958-8c676684013c",
   "metadata": {},
   "outputs": [
    {
     "name": "stdout",
     "output_type": "stream",
     "text": [
      "Época 0: Pérdida=2.4191, Precisión=0.1836\n",
      "Época 10: Pérdida=2.2796, Precisión=0.1811\n",
      "Época 20: Pérdida=2.1674, Precisión=0.1886\n",
      "Época 30: Pérdida=2.0780, Precisión=0.1923\n",
      "Época 40: Pérdida=2.0074, Precisión=0.1948\n",
      "Época 50: Pérdida=1.9521, Precisión=0.1960\n",
      "Época 60: Pérdida=1.9091, Precisión=0.1973\n",
      "Época 70: Pérdida=1.8760, Precisión=0.2022\n",
      "Época 80: Pérdida=1.8506, Precisión=0.2122\n",
      "Época 90: Pérdida=1.8312, Precisión=0.2134\n"
     ]
    }
   ],
   "source": [
    "# Implementación de perceptrón simple (softmax + cross entropy)\n",
    "class PerceptronSoftmax:\n",
    "  def __init__(self, input_size, output_size, lr=0.01):\n",
    "    self.W = W_pesosX\n",
    "    self.b = np.zeros((1, output_size))\n",
    "    self.lr = lr\n",
    "\n",
    "  def softmax(self, z):\n",
    "    e_z = np.exp(z - np.max(z, axis=1, keepdims=True))\n",
    "    return e_z / np.sum(e_z, axis=1, keepdims=True)\n",
    "\n",
    "  def cross_entropy(self, y_pred, y_true):\n",
    "    m = y_true.shape[0]\n",
    "    log_likelihood = -np.log(y_pred[range(m), y_true])\n",
    "    return np.sum(log_likelihood) / m\n",
    "\n",
    "  def accuracy(self, y_pred, y_true):\n",
    "    return np.mean(np.argmax(y_pred, axis=1) == y_true)\n",
    "\n",
    "  def forward(self, X):\n",
    "    z = np.dot(X, self.W) + self.b\n",
    "    return self.softmax(z)\n",
    "\n",
    "  def backward(self, X, y_true, y_pred):\n",
    "    m = y_true.shape[0]\n",
    "    grad = y_pred\n",
    "    grad[range(m), y_true] -= 1\n",
    "    grad /= m\n",
    "\n",
    "    dW = np.dot(X.T, grad)\n",
    "    db = np.sum(grad, axis=0, keepdims=True)\n",
    "\n",
    "    self.W -= self.lr * dW\n",
    "    self.b -= self.lr * db\n",
    "\n",
    "  def train(self, X, y, epochs=100):\n",
    "    for epoch in range(epochs):\n",
    "      y_pred = self.forward(X)\n",
    "      loss = self.cross_entropy(y_pred, y)\n",
    "      acc = self.accuracy(y_pred, y)\n",
    "      self.backward(X, y, y_pred)\n",
    "      if epoch % 10 == 0:\n",
    "        print(f\"Época {epoch}: Pérdida={loss:.4f}, Precisión={acc:.4f}\")\n",
    "\n",
    "# Entrenar modelo de perceptrón simple\n",
    "perceptron = PerceptronSoftmax(input_size=4, output_size=len(np.unique(y)), lr=0.1)\n",
    "perceptron.train(X_train, y_train, epochs=100)"
   ]
  },
  {
   "cell_type": "code",
   "execution_count": 45,
   "id": "b80e7a3f-a1f7-44ff-8fe1-f088d1beb036",
   "metadata": {},
   "outputs": [
    {
     "data": {
      "text/plain": [
       "np.float64(0.14356435643564355)"
      ]
     },
     "execution_count": 45,
     "metadata": {},
     "output_type": "execute_result"
    }
   ],
   "source": [
    "# Evaluación final\n",
    "y_pred_test = perceptron.forward(X_test)\n",
    "test_acc = perceptron.accuracy(y_pred_test, y_test)\n",
    "test_acc"
   ]
  },
  {
   "cell_type": "code",
   "execution_count": null,
   "id": "b05c8144-a5cb-4266-ba09-1f4af11f2c1a",
   "metadata": {},
   "outputs": [],
   "source": []
  }
 ],
 "metadata": {
  "kernelspec": {
   "display_name": "Python 3 (ipykernel)",
   "language": "python",
   "name": "python3"
  },
  "language_info": {
   "codemirror_mode": {
    "name": "ipython",
    "version": 3
   },
   "file_extension": ".py",
   "mimetype": "text/x-python",
   "name": "python",
   "nbconvert_exporter": "python",
   "pygments_lexer": "ipython3",
   "version": "3.13.2"
  }
 },
 "nbformat": 4,
 "nbformat_minor": 5
}
