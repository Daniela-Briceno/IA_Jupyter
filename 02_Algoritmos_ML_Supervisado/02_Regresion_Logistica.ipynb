{
 "cells": [
  {
   "cell_type": "markdown",
   "metadata": {},
   "source": [
    "# Clasificación binaria con Regresión Logística\n",
    "\n",
    "Este notebook utiliza un modelo de regresión logística para predecir si la radiación solar supera cierto umbral. Se entrena el modelo, se evalúa, y se hacen predicciones nuevas, todo usando `scikit-learn`.\n"
   ]
  },
  {
   "cell_type": "markdown",
   "metadata": {},
   "source": [
    "### 1. Generación del conjunto de datos"
   ]
  },
  {
   "cell_type": "code",
   "execution_count": 20,
   "metadata": {},
   "outputs": [
    {
     "name": "stdout",
     "output_type": "stream",
     "text": [
      "Primeras filas del dataset:\n"
     ]
    },
    {
     "data": {
      "text/html": [
       "<div>\n",
       "<style scoped>\n",
       "    .dataframe tbody tr th:only-of-type {\n",
       "        vertical-align: middle;\n",
       "    }\n",
       "\n",
       "    .dataframe tbody tr th {\n",
       "        vertical-align: top;\n",
       "    }\n",
       "\n",
       "    .dataframe thead th {\n",
       "        text-align: right;\n",
       "    }\n",
       "</style>\n",
       "<table border=\"1\" class=\"dataframe\">\n",
       "  <thead>\n",
       "    <tr style=\"text-align: right;\">\n",
       "      <th></th>\n",
       "      <th>direccion_viento</th>\n",
       "      <th>humedad_relativa</th>\n",
       "      <th>radiacion_solar</th>\n",
       "      <th>temp_aire</th>\n",
       "      <th>vel_viento</th>\n",
       "      <th>mp10_val</th>\n",
       "    </tr>\n",
       "  </thead>\n",
       "  <tbody>\n",
       "    <tr>\n",
       "      <th>0</th>\n",
       "      <td>206.5</td>\n",
       "      <td>60.0</td>\n",
       "      <td>31.0</td>\n",
       "      <td>18.6</td>\n",
       "      <td>10.2</td>\n",
       "      <td>22.5369</td>\n",
       "    </tr>\n",
       "    <tr>\n",
       "      <th>1</th>\n",
       "      <td>194.1</td>\n",
       "      <td>55.0</td>\n",
       "      <td>30.3</td>\n",
       "      <td>20.3</td>\n",
       "      <td>10.2</td>\n",
       "      <td>39.0410</td>\n",
       "    </tr>\n",
       "    <tr>\n",
       "      <th>2</th>\n",
       "      <td>186.4</td>\n",
       "      <td>47.2</td>\n",
       "      <td>25.1</td>\n",
       "      <td>20.0</td>\n",
       "      <td>9.0</td>\n",
       "      <td>43.8277</td>\n",
       "    </tr>\n",
       "    <tr>\n",
       "      <th>3</th>\n",
       "      <td>170.5</td>\n",
       "      <td>54.8</td>\n",
       "      <td>15.8</td>\n",
       "      <td>16.0</td>\n",
       "      <td>9.2</td>\n",
       "      <td>34.0361</td>\n",
       "    </tr>\n",
       "    <tr>\n",
       "      <th>4</th>\n",
       "      <td>156.8</td>\n",
       "      <td>47.3</td>\n",
       "      <td>10.6</td>\n",
       "      <td>14.7</td>\n",
       "      <td>8.5</td>\n",
       "      <td>32.6348</td>\n",
       "    </tr>\n",
       "  </tbody>\n",
       "</table>\n",
       "</div>"
      ],
      "text/plain": [
       "   direccion_viento  humedad_relativa  radiacion_solar  temp_aire  vel_viento  \\\n",
       "0             206.5              60.0             31.0       18.6        10.2   \n",
       "1             194.1              55.0             30.3       20.3        10.2   \n",
       "2             186.4              47.2             25.1       20.0         9.0   \n",
       "3             170.5              54.8             15.8       16.0         9.2   \n",
       "4             156.8              47.3             10.6       14.7         8.5   \n",
       "\n",
       "   mp10_val  \n",
       "0   22.5369  \n",
       "1   39.0410  \n",
       "2   43.8277  \n",
       "3   34.0361  \n",
       "4   32.6348  "
      ]
     },
     "execution_count": 20,
     "metadata": {},
     "output_type": "execute_result"
    }
   ],
   "source": [
    "import pandas as pd\n",
    "import numpy as np\n",
    "import matplotlib.pyplot as plt\n",
    "import seaborn as sns\n",
    "from sklearn.model_selection import train_test_split\n",
    "from sklearn.linear_model import LogisticRegression\n",
    "from sklearn.metrics import accuracy_score, confusion_matrix, classification_report, ConfusionMatrixDisplay, roc_curve, auc\n",
    "\n",
    "# Cargar el archivo CSV\n",
    "df = pd.read_csv(\"AllData.csv\")\n",
    "print(\"Primeras filas del dataset:\")\n",
    "df.head()"
   ]
  },
  {
   "cell_type": "markdown",
   "metadata": {},
   "source": [
    "### 2. Modificación del conjunto de datos"
   ]
  },
  {
   "cell_type": "code",
   "execution_count": 13,
   "metadata": {},
   "outputs": [
    {
     "name": "stdout",
     "output_type": "stream",
     "text": [
      "direccion_viento    float64\n",
      "humedad_relativa    float64\n",
      "temp_aire           float64\n",
      "vel_viento          float64\n",
      "mp10_val            float64\n",
      "dtype: object\n",
      "Tamaño final de X: (69, 5)\n"
     ]
    }
   ],
   "source": [
    "# Definir variables X e y\n",
    "# columna objetivo debe ser binaria: 0 y 1\n",
    "X = df.drop(\"radiacion_solar\", axis=1)\n",
    "y = (df[\"radiacion_solar\"] > 20).astype(int)\n",
    "\n",
    "# Convertir todas las columnas categóricas (strings) a variables numéricas con One-Hot Encoding\n",
    "X = pd.get_dummies(X, drop_first=True)\n",
    "\n",
    "# Asegurar que todos los valores estén limpios (sin NaNs ni strings)\n",
    "X = X.apply(pd.to_numeric, errors='coerce')  # fuerza conversión a números\n",
    "X = X.fillna(0)  # reemplaza NaNs por 0 (o podrías usar promedio/mediana)\n",
    "\n",
    "# Confirmar que X está lista\n",
    "print(X.dtypes)\n",
    "print(\"Tamaño final de X:\", X.shape)"
   ]
  },
  {
   "cell_type": "markdown",
   "metadata": {},
   "source": [
    "### 3. Construcción del modelo"
   ]
  },
  {
   "cell_type": "code",
   "execution_count": 14,
   "metadata": {},
   "outputs": [],
   "source": [
    "# Separar los datos en entrenamiento y prueba\n",
    "X_train, X_test, y_train, y_test = train_test_split(X, y, test_size=0.2, random_state=42)\n",
    "\n",
    "# Entrenar el modelo de regresión logística\n",
    "modelo = LogisticRegression(max_iter=1000)\n",
    "modelo.fit(X_train, y_train)\n",
    "\n",
    "# Realizar predicciones\n",
    "y_pred = modelo.predict(X_test)"
   ]
  },
  {
   "cell_type": "code",
   "execution_count": 15,
   "metadata": {},
   "outputs": [
    {
     "name": "stdout",
     "output_type": "stream",
     "text": [
      "Precisión (accuracy): 0.9285714285714286\n",
      "Matriz de confusión:\n",
      "[[5 0]\n",
      " [1 8]]\n",
      "Reporte de clasificación:\n",
      "              precision    recall  f1-score   support\n",
      "\n",
      "           0       0.83      1.00      0.91         5\n",
      "           1       1.00      0.89      0.94         9\n",
      "\n",
      "    accuracy                           0.93        14\n",
      "   macro avg       0.92      0.94      0.93        14\n",
      "weighted avg       0.94      0.93      0.93        14\n",
      "\n"
     ]
    }
   ],
   "source": [
    "# Evaluar el modelo\n",
    "print(\"Precisión (accuracy):\", accuracy_score(y_test, y_pred))\n",
    "print(\"Matriz de confusión:\")\n",
    "print(confusion_matrix(y_test, y_pred))\n",
    "print(\"Reporte de clasificación:\")\n",
    "print(classification_report(y_test, y_pred))"
   ]
  },
  {
   "cell_type": "code",
   "execution_count": 16,
   "metadata": {},
   "outputs": [
    {
     "data": {
      "image/png": "[encoded data removed]",
      "text/plain": [
       "<Figure size 640x480 with 2 Axes>"
      ]
     },
     "metadata": {},
     "output_type": "display_data"
    }
   ],
   "source": [
    "# Visualización de la matriz de confusión\n",
    "ConfusionMatrixDisplay.from_estimator(modelo, X_test, y_test, cmap=\"Blues\")\n",
    "plt.title(\"Matriz de Confusión\")\n",
    "plt.grid(False)\n",
    "plt.show()"
   ]
  },
  {
   "cell_type": "markdown",
   "metadata": {},
   "source": [
    "### 4. Predicción de nuevos ejemplos"
   ]
  },
  {
   "cell_type": "code",
   "execution_count": 23,
   "metadata": {},
   "outputs": [
    {
     "name": "stdout",
     "output_type": "stream",
     "text": [
      " Clase predicha: 0\n",
      " Probabilidad clase 0: 1.00\n",
      " Probabilidad clase 1: 0.00\n"
     ]
    }
   ],
   "source": [
    "# Reemplaza con valores acordes a tus columnas reales\n",
    "X_nuevo = pd.DataFrame([[1.5,20.0,2.0]], columns=[\"humedad_relativa\",\"radiacion_solar\", \"temp_aire\"])\n",
    "\n",
    "# Cuando entrenaste el modeloe se cambio el orden/estructura de las columnas de X, y hay que reindexar:\n",
    "X_nuevo = X_nuevo.reindex(columns=X.columns, fill_value=0)\n",
    "\n",
    "# Predicción de clase\n",
    "prediccion = modelo.predict(X_nuevo)\n",
    "print(\" Clase predicha:\", prediccion[0])\n",
    "\n",
    "# Predicción de probabilidad\n",
    "proba = modelo.predict_proba(X_nuevo)\n",
    "print(f\" Probabilidad clase 0: {proba[0][0]:.2f}\")\n",
    "print(f\" Probabilidad clase 1: {proba[0][1]:.2f}\")"
   ]
  },
  {
   "cell_type": "code",
   "execution_count": null,
   "metadata": {},
   "outputs": [],
   "source": []
  }
 ],
 "metadata": {
  "kernelspec": {
   "display_name": "Python 3 (ipykernel)",
   "language": "python",
   "name": "python3"
  },
  "language_info": {
   "codemirror_mode": {
    "name": "ipython",
    "version": 3
   },
   "file_extension": ".py",
   "mimetype": "text/x-python",
   "name": "python",
   "nbconvert_exporter": "python",
   "pygments_lexer": "ipython3",
   "version": "3.13.2"
  }
 },
 "nbformat": 4,
 "nbformat_minor": 4
}
