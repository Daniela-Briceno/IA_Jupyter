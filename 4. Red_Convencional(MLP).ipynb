{
 "cells": [
  {
   "cell_type": "markdown",
   "id": "966b581b-a1f4-42c0-90e5-81bfc0facbda",
   "metadata": {},
   "source": [
    "# Red Neuronal Convencional (MLP)\n",
    "#### Este notebook implementa una red totalmente conectada (sin convolución) usando PyTorch."
   ]
  },
  {
   "cell_type": "code",
   "execution_count": 8,
   "id": "f81fd20d-bc9a-4329-84c1-174ad286f6e8",
   "metadata": {},
   "outputs": [],
   "source": [
    "import torch\n",
    "import torch.nn as nn\n",
    "import torch.optim as optim\n",
    "from torchvision import datasets, transforms\n",
    "from torch.utils.data import DataLoader"
   ]
  },
  {
   "cell_type": "markdown",
   "id": "17267385-097f-49d6-804b-93662008fe2e",
   "metadata": {},
   "source": [
    "### 1. Transformaciones y carga de datos"
   ]
  },
  {
   "cell_type": "code",
   "execution_count": 9,
   "id": "991836a0-2769-45a5-9977-c9c20e5bf245",
   "metadata": {},
   "outputs": [
    {
     "name": "stderr",
     "output_type": "stream",
     "text": [
      "100.0%\n",
      "100.0%\n",
      "100.0%\n",
      "100.0%\n"
     ]
    }
   ],
   "source": [
    "transform = transforms.Compose([\n",
    "    transforms.ToTensor(),                    # Convertir a tensor\n",
    "    transforms.Normalize((0.1307,), (0.3081,)) # Normalizar (media y desviación de MNIST)\n",
    "])\n",
    "\n",
    "train_data = datasets.MNIST(root='./data', train=True, download=True, transform=transform)\n",
    "test_data  = datasets.MNIST(root='./data', train=False, download=True, transform=transform)\n",
    "\n",
    "train_loader = DataLoader(train_data, batch_size=64, shuffle=True)\n",
    "test_loader  = DataLoader(test_data, batch_size=1000, shuffle=False)\n"
   ]
  },
  {
   "cell_type": "markdown",
   "id": "4167d42b-adc8-4d1c-8125-74c171d087da",
   "metadata": {},
   "source": [
    "#### ¿Qué es MNIST?\n",
    "##### Un dataset muy usado en Machine Learning. \n",
    "##### Contiene 70.000 imágenes de dígitos escritos a mano (0–9):\n",
    "##### Tamaño: 28 x 28 píxeles, 60.000 imágenes de entrenamiento, 10.000 imágenes de prueba, Blanco y negro (1 canal)"
   ]
  },
  {
   "cell_type": "markdown",
   "id": "f2eeab5e-47fd-4137-912c-70af54028c66",
   "metadata": {},
   "source": [
    "### 3. Definir el modelo MLP"
   ]
  },
  {
   "cell_type": "code",
   "execution_count": 11,
   "id": "2e0dd5ee-5797-4b35-ae52-579444320858",
   "metadata": {},
   "outputs": [],
   "source": [
    "class MLP(nn.Module):\n",
    "    def __init__(self):\n",
    "        super(MLP, self).__init__()\n",
    "        self.modelo = nn.Sequential(\n",
    "            nn.Flatten(),              # nn.Flatten() convierte la imagen 2D (28x28) en un vector 1D (784)\n",
    "            nn.Linear(784, 256),       # Capa oculta 1 (es una capa densa (X entradas, Y salidas)\n",
    "            nn.ReLU(),                 # Activa las neuronas (introduce no linealidad)\n",
    "            nn.Linear(256, 128),       # Capa oculta 2\n",
    "            nn.ReLU(),\n",
    "            nn.Linear(128, 10)         # Capa de salida, La última capa tiene 10 neuronas, una por cada clase (dígito del 0 al 9)\n",
    "        )\n",
    "\n",
    "    def forward(self, x):\n",
    "        return self.modelo(x)"
   ]
  },
  {
   "cell_type": "markdown",
   "id": "dcadac55-9faa-4f57-8e19-835e22842bad",
   "metadata": {},
   "source": [
    "### 4. Instanciar el modelo, función de pérdida y optimizador"
   ]
  },
  {
   "cell_type": "code",
   "execution_count": 12,
   "id": "89f72f3c-a99b-41b1-92bc-62ba36b21f82",
   "metadata": {},
   "outputs": [],
   "source": [
    "modelo = MLP()\n",
    "criterio = nn.CrossEntropyLoss()\n",
    "optimizador = optim.Adam(modelo.parameters(), lr=0.001)"
   ]
  },
  {
   "cell_type": "markdown",
   "id": "393b7a93-a22e-4eeb-9c0b-d614d968e468",
   "metadata": {},
   "source": [
    "### 5. Entrenamiento"
   ]
  },
  {
   "cell_type": "code",
   "execution_count": 14,
   "id": "f631ee4c-f91a-4f0a-a0de-702ab3ea409a",
   "metadata": {},
   "outputs": [
    {
     "name": "stdout",
     "output_type": "stream",
     "text": [
      "Época 1 - Pérdida promedio: 0.0315\n",
      "Época 2 - Pérdida promedio: 0.0294\n",
      "Época 3 - Pérdida promedio: 0.0260\n",
      "Época 4 - Pérdida promedio: 0.0214\n",
      "Época 5 - Pérdida promedio: 0.0188\n"
     ]
    }
   ],
   "source": [
    "# El modelo predice (forward), Se hace retropropagación con .backward() por 5 epocas.\n",
    "for epoca in range(5):\n",
    "    modelo.train()\n",
    "    perdida_total = 0\n",
    "    for datos, etiquetas in train_loader:       #Se calcula la pérdida (error) entre la predicción y la etiqueta verdadera\n",
    "        optimizador.zero_grad()\n",
    "        salida = modelo(datos)\n",
    "        perdida = criterio(salida, etiquetas)\n",
    "        perdida.backward()\n",
    "        optimizador.step()                      #Se ajustan los pesos con optimizador.step()\n",
    "        perdida_total += perdida.item()\n",
    "    print(f\"Época {epoca+1} - Pérdida promedio: {perdida_total / len(train_loader):.4f}\")"
   ]
  },
  {
   "cell_type": "markdown",
   "id": "1fe9415e-7dc9-4ce7-a395-dd9594f72784",
   "metadata": {},
   "source": [
    "### 6. Evaluación"
   ]
  },
  {
   "cell_type": "code",
   "execution_count": 16,
   "id": "287dc294-6b46-4639-ae71-5a6b5ca83797",
   "metadata": {},
   "outputs": [
    {
     "name": "stdout",
     "output_type": "stream",
     "text": [
      "Precisión en test: 97.79%\n"
     ]
    }
   ],
   "source": [
    "# Se mide cuántas predicciones son correctas comparando con las etiquetas verdaderas\n",
    "modelo.eval()\n",
    "correctos = 0\n",
    "total = 0\n",
    "with torch.no_grad():\n",
    "    for datos, etiquetas in test_loader:\n",
    "        salida = modelo(datos)\n",
    "        _, pred = torch.max(salida, 1)\n",
    "        correctos += (pred == etiquetas).sum().item()\n",
    "        total += etiquetas.size(0)\n",
    "\n",
    "print(f\"Precisión en test: {100 * correctos / total:.2f}%\")"
   ]
  },
  {
   "cell_type": "code",
   "execution_count": null,
   "id": "e4228db8-2fb7-4d8e-b7ae-5718f6ad1894",
   "metadata": {},
   "outputs": [],
   "source": []
  }
 ],
 "metadata": {
  "kernelspec": {
   "display_name": "Python 3 (ipykernel)",
   "language": "python",
   "name": "python3"
  },
  "language_info": {
   "codemirror_mode": {
    "name": "ipython",
    "version": 3
   },
   "file_extension": ".py",
   "mimetype": "text/x-python",
   "name": "python",
   "nbconvert_exporter": "python",
   "pygments_lexer": "ipython3",
   "version": "3.13.2"
  }
 },
 "nbformat": 4,
 "nbformat_minor": 5
}
